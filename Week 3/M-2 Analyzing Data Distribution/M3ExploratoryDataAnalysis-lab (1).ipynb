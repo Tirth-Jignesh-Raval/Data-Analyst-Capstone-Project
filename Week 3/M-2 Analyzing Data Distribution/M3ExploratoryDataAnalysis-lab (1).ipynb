{
 "cells": [
  {
   "cell_type": "markdown",
   "metadata": {},
   "source": [
    "<center>\n",
    "    <img src=\"https://gitlab.com/ibm/skills-network/courses/placeholder101/-/raw/master/labs/module%201/images/IDSNlogo.png\" width=\"300\" alt=\"cognitiveclass.ai logo\"  />\n",
    "</center>\n"
   ]
  },
  {
   "cell_type": "markdown",
   "metadata": {},
   "source": [
    "# **Exploratory Data Analysis Lab**\n"
   ]
  },
  {
   "cell_type": "markdown",
   "metadata": {},
   "source": [
    "Estimated time needed: **30** minutes\n"
   ]
  },
  {
   "cell_type": "markdown",
   "metadata": {},
   "source": [
    "In this module you get to work with the cleaned dataset from the previous module.\n",
    "\n",
    "In this assignment you will perform the task of exploratory data analysis.\n",
    "You will find out the distribution of data, presence of outliers and also determine the correlation between different columns in the dataset.\n"
   ]
  },
  {
   "cell_type": "markdown",
   "metadata": {},
   "source": [
    "## Objectives\n"
   ]
  },
  {
   "cell_type": "markdown",
   "metadata": {},
   "source": [
    "In this lab you will perform the following:\n"
   ]
  },
  {
   "cell_type": "markdown",
   "metadata": {},
   "source": [
    "-   Identify the distribution of data in the dataset.\n",
    "\n",
    "-   Identify outliers in the dataset.\n",
    "\n",
    "-   Remove outliers from the dataset.\n",
    "\n",
    "-   Identify correlation between features in the dataset.\n"
   ]
  },
  {
   "cell_type": "markdown",
   "metadata": {},
   "source": [
    "* * *\n"
   ]
  },
  {
   "cell_type": "markdown",
   "metadata": {},
   "source": [
    "## Hands on Lab\n"
   ]
  },
  {
   "cell_type": "markdown",
   "metadata": {},
   "source": [
    "Import the pandas module.\n"
   ]
  },
  {
   "cell_type": "code",
   "execution_count": 1,
   "metadata": {},
   "outputs": [],
   "source": [
    "import pandas as pd"
   ]
  },
  {
   "cell_type": "markdown",
   "metadata": {},
   "source": [
    "Load the dataset into a dataframe.\n"
   ]
  },
  {
   "cell_type": "code",
   "execution_count": 2,
   "metadata": {},
   "outputs": [],
   "source": [
    "df = pd.read_csv(\"https://cf-courses-data.s3.us.cloud-object-storage.appdomain.cloud/IBM-DA0321EN-SkillsNetwork/LargeData/m2_survey_data.csv\")"
   ]
  },
  {
   "cell_type": "code",
   "execution_count": 3,
   "metadata": {},
   "outputs": [
    {
     "name": "stdout",
     "output_type": "stream",
     "text": [
      "Office\n"
     ]
    }
   ],
   "source": [
    "df['WorkLoc'].isnull().value_counts()\n",
    "val = df['WorkLoc'].value_counts()[df['WorkLoc'].value_counts()==df['WorkLoc'].value_counts().max()].index[0]\n",
    "print(val)\n",
    "df['WorkLoc'].fillna(val,inplace=True)"
   ]
  },
  {
   "cell_type": "code",
   "execution_count": 4,
   "metadata": {},
   "outputs": [],
   "source": [
    "df.dropna(axis=0,inplace=True)"
   ]
  },
  {
   "cell_type": "code",
   "execution_count": 5,
   "metadata": {},
   "outputs": [
    {
     "name": "stdout",
     "output_type": "stream",
     "text": [
      "<class 'pandas.core.frame.DataFrame'>\n",
      "Int64Index: 1008 entries, 6 to 11384\n",
      "Data columns (total 85 columns):\n",
      " #   Column                  Non-Null Count  Dtype  \n",
      "---  ------                  --------------  -----  \n",
      " 0   Respondent              1008 non-null   int64  \n",
      " 1   MainBranch              1008 non-null   object \n",
      " 2   Hobbyist                1008 non-null   object \n",
      " 3   OpenSourcer             1008 non-null   object \n",
      " 4   OpenSource              1008 non-null   object \n",
      " 5   Employment              1008 non-null   object \n",
      " 6   Country                 1008 non-null   object \n",
      " 7   Student                 1008 non-null   object \n",
      " 8   EdLevel                 1008 non-null   object \n",
      " 9   UndergradMajor          1008 non-null   object \n",
      " 10  EduOther                1008 non-null   object \n",
      " 11  OrgSize                 1008 non-null   object \n",
      " 12  DevType                 1008 non-null   object \n",
      " 13  YearsCode               1008 non-null   object \n",
      " 14  Age1stCode              1008 non-null   object \n",
      " 15  YearsCodePro            1008 non-null   object \n",
      " 16  CareerSat               1008 non-null   object \n",
      " 17  JobSat                  1008 non-null   object \n",
      " 18  MgrIdiot                1008 non-null   object \n",
      " 19  MgrMoney                1008 non-null   object \n",
      " 20  MgrWant                 1008 non-null   object \n",
      " 21  JobSeek                 1008 non-null   object \n",
      " 22  LastHireDate            1008 non-null   object \n",
      " 23  LastInt                 1008 non-null   object \n",
      " 24  FizzBuzz                1008 non-null   object \n",
      " 25  JobFactors              1008 non-null   object \n",
      " 26  ResumeUpdate            1008 non-null   object \n",
      " 27  CurrencySymbol          1008 non-null   object \n",
      " 28  CurrencyDesc            1008 non-null   object \n",
      " 29  CompTotal               1008 non-null   float64\n",
      " 30  CompFreq                1008 non-null   object \n",
      " 31  ConvertedComp           1008 non-null   float64\n",
      " 32  WorkWeekHrs             1008 non-null   float64\n",
      " 33  WorkPlan                1008 non-null   object \n",
      " 34  WorkChallenge           1008 non-null   object \n",
      " 35  WorkRemote              1008 non-null   object \n",
      " 36  WorkLoc                 1008 non-null   object \n",
      " 37  ImpSyn                  1008 non-null   object \n",
      " 38  CodeRev                 1008 non-null   object \n",
      " 39  CodeRevHrs              1008 non-null   float64\n",
      " 40  UnitTests               1008 non-null   object \n",
      " 41  PurchaseHow             1008 non-null   object \n",
      " 42  PurchaseWhat            1008 non-null   object \n",
      " 43  LanguageWorkedWith      1008 non-null   object \n",
      " 44  LanguageDesireNextYear  1008 non-null   object \n",
      " 45  DatabaseWorkedWith      1008 non-null   object \n",
      " 46  DatabaseDesireNextYear  1008 non-null   object \n",
      " 47  PlatformWorkedWith      1008 non-null   object \n",
      " 48  PlatformDesireNextYear  1008 non-null   object \n",
      " 49  WebFrameWorkedWith      1008 non-null   object \n",
      " 50  WebFrameDesireNextYear  1008 non-null   object \n",
      " 51  MiscTechWorkedWith      1008 non-null   object \n",
      " 52  MiscTechDesireNextYear  1008 non-null   object \n",
      " 53  DevEnviron              1008 non-null   object \n",
      " 54  OpSys                   1008 non-null   object \n",
      " 55  Containers              1008 non-null   object \n",
      " 56  BlockchainOrg           1008 non-null   object \n",
      " 57  BlockchainIs            1008 non-null   object \n",
      " 58  BetterLife              1008 non-null   object \n",
      " 59  ITperson                1008 non-null   object \n",
      " 60  OffOn                   1008 non-null   object \n",
      " 61  SocialMedia             1008 non-null   object \n",
      " 62  Extraversion            1008 non-null   object \n",
      " 63  ScreenName              1008 non-null   object \n",
      " 64  SOVisit1st              1008 non-null   object \n",
      " 65  SOVisitFreq             1008 non-null   object \n",
      " 66  SOVisitTo               1008 non-null   object \n",
      " 67  SOFindAnswer            1008 non-null   object \n",
      " 68  SOTimeSaved             1008 non-null   object \n",
      " 69  SOHowMuchTime           1008 non-null   object \n",
      " 70  SOAccount               1008 non-null   object \n",
      " 71  SOPartFreq              1008 non-null   object \n",
      " 72  SOJobs                  1008 non-null   object \n",
      " 73  EntTeams                1008 non-null   object \n",
      " 74  SOComm                  1008 non-null   object \n",
      " 75  WelcomeChange           1008 non-null   object \n",
      " 76  SONewContent            1008 non-null   object \n",
      " 77  Age                     1008 non-null   float64\n",
      " 78  Gender                  1008 non-null   object \n",
      " 79  Trans                   1008 non-null   object \n",
      " 80  Sexuality               1008 non-null   object \n",
      " 81  Ethnicity               1008 non-null   object \n",
      " 82  Dependents              1008 non-null   object \n",
      " 83  SurveyLength            1008 non-null   object \n",
      " 84  SurveyEase              1008 non-null   object \n",
      "dtypes: float64(5), int64(1), object(79)\n",
      "memory usage: 677.2+ KB\n"
     ]
    }
   ],
   "source": [
    "df.info()"
   ]
  },
  {
   "cell_type": "markdown",
   "metadata": {},
   "source": [
    "## Distribution\n"
   ]
  },
  {
   "cell_type": "markdown",
   "metadata": {},
   "source": [
    "### Determine how the data is distributed\n"
   ]
  },
  {
   "cell_type": "markdown",
   "metadata": {},
   "source": [
    "The column `ConvertedComp` contains Salary converted to annual USD salaries using the exchange rate on 2019-02-01.\n",
    "\n",
    "This assumes 12 working months and 50 working weeks.\n"
   ]
  },
  {
   "cell_type": "markdown",
   "metadata": {},
   "source": [
    "Plot the distribution curve for the column `ConvertedComp`.\n"
   ]
  },
  {
   "cell_type": "code",
   "execution_count": 6,
   "metadata": {},
   "outputs": [
    {
     "data": {
      "text/plain": [
       "<seaborn.axisgrid.FacetGrid at 0x2210c73a8b0>"
      ]
     },
     "execution_count": 6,
     "metadata": {},
     "output_type": "execute_result"
    },
    {
     "data": {
      "image/png": "[encoded data removed]",
      "text/plain": [
       "<Figure size 360x360 with 1 Axes>"
      ]
     },
     "metadata": {
      "needs_background": "light"
     },
     "output_type": "display_data"
    }
   ],
   "source": [
    "# your code goes here\n",
    "import seaborn as sns\n",
    "data = df['ConvertedComp'].dropna(axis=0)\n",
    "sns.displot(data)"
   ]
  },
  {
   "cell_type": "markdown",
   "metadata": {},
   "source": [
    "Plot the histogram for the column `ConvertedComp`.\n"
   ]
  },
  {
   "cell_type": "code",
   "execution_count": 7,
   "metadata": {},
   "outputs": [
    {
     "data": {
      "text/plain": [
       "<matplotlib.axes._subplots.AxesSubplot at 0x2210e1b2a90>"
      ]
     },
     "execution_count": 7,
     "metadata": {},
     "output_type": "execute_result"
    },
    {
     "data": {
      "image/png": "[encoded data removed]",
      "text/plain": [
       "<Figure size 432x288 with 1 Axes>"
      ]
     },
     "metadata": {
      "needs_background": "light"
     },
     "output_type": "display_data"
    }
   ],
   "source": [
    "# your code goes here\n",
    "sns.histplot(data,bins=12)"
   ]
  },
  {
   "cell_type": "code",
   "execution_count": 8,
   "metadata": {},
   "outputs": [
    {
     "data": {
      "text/plain": [
       "<matplotlib.axes._subplots.AxesSubplot at 0x2210e22c850>"
      ]
     },
     "execution_count": 8,
     "metadata": {},
     "output_type": "execute_result"
    },
    {
     "data": {
      "image/png": "[encoded data removed]",
      "text/plain": [
       "<Figure size 432x288 with 1 Axes>"
      ]
     },
     "metadata": {
      "needs_background": "light"
     },
     "output_type": "display_data"
    }
   ],
   "source": [
    "sns.histplot(data,bins=50)"
   ]
  },
  {
   "cell_type": "markdown",
   "metadata": {},
   "source": [
    "What is the median of the column `ConvertedComp`?\n"
   ]
  },
  {
   "cell_type": "code",
   "execution_count": 9,
   "metadata": {},
   "outputs": [
    {
     "data": {
      "text/plain": [
       "65537.5"
      ]
     },
     "execution_count": 9,
     "metadata": {},
     "output_type": "execute_result"
    }
   ],
   "source": [
    "# your code goes here\n",
    "data.median()"
   ]
  },
  {
   "cell_type": "markdown",
   "metadata": {},
   "source": [
    "How many responders identified themselves only as a **Man**?\n"
   ]
  },
  {
   "cell_type": "code",
   "execution_count": 10,
   "metadata": {},
   "outputs": [
    {
     "data": {
      "text/plain": [
       "962"
      ]
     },
     "execution_count": 10,
     "metadata": {},
     "output_type": "execute_result"
    }
   ],
   "source": [
    "# your code goes here\n",
    "Gender = df['Gender'].dropna(axis=0)\n",
    "Gender.value_counts()['Man']"
   ]
  },
  {
   "cell_type": "markdown",
   "metadata": {},
   "source": [
    "Find out the  median ConvertedComp of responders identified themselves only as a **Woman**?\n"
   ]
  },
  {
   "cell_type": "code",
   "execution_count": 11,
   "metadata": {},
   "outputs": [
    {
     "data": {
      "text/plain": [
       "60000.0"
      ]
     },
     "execution_count": 11,
     "metadata": {},
     "output_type": "execute_result"
    }
   ],
   "source": [
    "# your code goes here\n",
    "CompGend = df[df['Gender']==\"Woman\"]['ConvertedComp'].dropna(axis=0)\n",
    "CompGend.median()"
   ]
  },
  {
   "cell_type": "markdown",
   "metadata": {},
   "source": [
    "Give the five number summary for the column `Age`?\n"
   ]
  },
  {
   "cell_type": "markdown",
   "metadata": {},
   "source": [
    "**Double click here for hint**.\n",
    "\n",
    "<!--\n",
    "min,q1,median,q3,max of a column are its five number summary.\n",
    "-->\n"
   ]
  },
  {
   "cell_type": "code",
   "execution_count": 12,
   "metadata": {},
   "outputs": [
    {
     "data": {
      "text/plain": [
       "Min       19.0\n",
       "Q1        26.0\n",
       "Median    29.0\n",
       "Q3        34.0\n",
       "Max       63.0\n",
       "Name: Age, dtype: float64"
      ]
     },
     "execution_count": 12,
     "metadata": {},
     "output_type": "execute_result"
    }
   ],
   "source": [
    "# your code goes here\n",
    "Age = df['Age'].dropna(axis=0)\n",
    "Age_summary = Age.describe()[3:]\n",
    "Age_summary.index = ['Min','Q1','Median','Q3','Max']\n",
    "Age_summary"
   ]
  },
  {
   "cell_type": "markdown",
   "metadata": {},
   "source": [
    "Plot a histogram of the column `Age`.\n"
   ]
  },
  {
   "cell_type": "code",
   "execution_count": 13,
   "metadata": {},
   "outputs": [
    {
     "data": {
      "text/plain": [
       "<matplotlib.axes._subplots.AxesSubplot at 0x2210e3079d0>"
      ]
     },
     "execution_count": 13,
     "metadata": {},
     "output_type": "execute_result"
    },
    {
     "data": {
      "image/png": "[encoded data removed]",
      "text/plain": [
       "<Figure size 432x288 with 1 Axes>"
      ]
     },
     "metadata": {
      "needs_background": "light"
     },
     "output_type": "display_data"
    }
   ],
   "source": [
    "# your code goes here\n",
    "sns.histplot(Age)"
   ]
  },
  {
   "cell_type": "markdown",
   "metadata": {},
   "source": [
    "## Outliers\n"
   ]
  },
  {
   "cell_type": "markdown",
   "metadata": {},
   "source": [
    "### Finding outliers\n"
   ]
  },
  {
   "cell_type": "markdown",
   "metadata": {},
   "source": [
    "Find out if outliers exist in the column `ConvertedComp` using a box plot?\n"
   ]
  },
  {
   "cell_type": "code",
   "execution_count": 14,
   "metadata": {},
   "outputs": [
    {
     "data": {
      "text/plain": [
       "<matplotlib.axes._subplots.AxesSubplot at 0x2210e39fc70>"
      ]
     },
     "execution_count": 14,
     "metadata": {},
     "output_type": "execute_result"
    },
    {
     "data": {
      "image/png": "[encoded data removed]",
      "text/plain": [
       "<Figure size 432x288 with 1 Axes>"
      ]
     },
     "metadata": {
      "needs_background": "light"
     },
     "output_type": "display_data"
    }
   ],
   "source": [
    "# your code goes here\n",
    "Comp = df['ConvertedComp'].dropna(axis=0)\n",
    "sns.boxplot(x=Comp)"
   ]
  },
  {
   "cell_type": "markdown",
   "metadata": {},
   "source": [
    "Find out the Inter Quartile Range for the column `ConvertedComp`.\n"
   ]
  },
  {
   "cell_type": "code",
   "execution_count": 15,
   "metadata": {},
   "outputs": [
    {
     "data": {
      "text/plain": [
       "70842.5"
      ]
     },
     "execution_count": 15,
     "metadata": {},
     "output_type": "execute_result"
    }
   ],
   "source": [
    "# your code goes here\n",
    "import numpy as np\n",
    "upper_quartile = np.percentile(Comp, 75)\n",
    "lower_quartile = np.percentile(Comp, 25)\n",
    "\n",
    "iqr = upper_quartile - lower_quartile\n",
    "iqr"
   ]
  },
  {
   "cell_type": "markdown",
   "metadata": {},
   "source": [
    "Find out the upper and lower bounds.\n"
   ]
  },
  {
   "cell_type": "code",
   "execution_count": 16,
   "metadata": {},
   "outputs": [
    {
     "name": "stdout",
     "output_type": "stream",
     "text": [
      "0.0 205000.0\n"
     ]
    }
   ],
   "source": [
    "# your code goes here\n",
    "upper_whisker = Comp[Comp<=upper_quartile+1.5*iqr].max()\n",
    "lower_whisker = Comp[Comp>=lower_quartile-1.5*iqr].min()\n",
    "print(lower_whisker,upper_whisker)"
   ]
  },
  {
   "cell_type": "markdown",
   "metadata": {},
   "source": [
    "Identify how many outliers are there in the `ConvertedComp` column.\n"
   ]
  },
  {
   "cell_type": "code",
   "execution_count": 17,
   "metadata": {},
   "outputs": [
    {
     "data": {
      "text/plain": [
       "71"
      ]
     },
     "execution_count": 17,
     "metadata": {},
     "output_type": "execute_result"
    }
   ],
   "source": [
    "# your code goes here\n",
    "outlier = Comp[Comp>upper_whisker]\n",
    "len(outlier)"
   ]
  },
  {
   "cell_type": "markdown",
   "metadata": {},
   "source": [
    "Create a new dataframe by removing the outliers from the `ConvertedComp` column.\n"
   ]
  },
  {
   "cell_type": "code",
   "execution_count": 22,
   "metadata": {},
   "outputs": [
    {
     "data": {
      "text/html": [
       "<div>\n",
       "<style scoped>\n",
       "    .dataframe tbody tr th:only-of-type {\n",
       "        vertical-align: middle;\n",
       "    }\n",
       "\n",
       "    .dataframe tbody tr th {\n",
       "        vertical-align: top;\n",
       "    }\n",
       "\n",
       "    .dataframe thead th {\n",
       "        text-align: right;\n",
       "    }\n",
       "</style>\n",
       "<table border=\"1\" class=\"dataframe\">\n",
       "  <thead>\n",
       "    <tr style=\"text-align: right;\">\n",
       "      <th></th>\n",
       "      <th>Respondent</th>\n",
       "      <th>MainBranch</th>\n",
       "      <th>Hobbyist</th>\n",
       "      <th>OpenSourcer</th>\n",
       "      <th>OpenSource</th>\n",
       "      <th>Employment</th>\n",
       "      <th>Country</th>\n",
       "      <th>Student</th>\n",
       "      <th>EdLevel</th>\n",
       "      <th>UndergradMajor</th>\n",
       "      <th>...</th>\n",
       "      <th>WelcomeChange</th>\n",
       "      <th>SONewContent</th>\n",
       "      <th>Age</th>\n",
       "      <th>Gender</th>\n",
       "      <th>Trans</th>\n",
       "      <th>Sexuality</th>\n",
       "      <th>Ethnicity</th>\n",
       "      <th>Dependents</th>\n",
       "      <th>SurveyLength</th>\n",
       "      <th>SurveyEase</th>\n",
       "    </tr>\n",
       "  </thead>\n",
       "  <tbody>\n",
       "    <tr>\n",
       "      <th>6</th>\n",
       "      <td>20</td>\n",
       "      <td>I am not primarily a developer, but I write co...</td>\n",
       "      <td>No</td>\n",
       "      <td>Never</td>\n",
       "      <td>OSS is, on average, of HIGHER quality than pro...</td>\n",
       "      <td>Employed full-time</td>\n",
       "      <td>Lithuania</td>\n",
       "      <td>No</td>\n",
       "      <td>Master’s degree (MA, MS, M.Eng., MBA, etc.)</td>\n",
       "      <td>Information systems, information technology, o...</td>\n",
       "      <td>...</td>\n",
       "      <td>Not applicable - I did not use Stack Overflow ...</td>\n",
       "      <td>Tech articles written by other developers</td>\n",
       "      <td>38.0</td>\n",
       "      <td>Man</td>\n",
       "      <td>No</td>\n",
       "      <td>Straight / Heterosexual</td>\n",
       "      <td>White or of European descent</td>\n",
       "      <td>Yes</td>\n",
       "      <td>Appropriate in length</td>\n",
       "      <td>Easy</td>\n",
       "    </tr>\n",
       "    <tr>\n",
       "      <th>15</th>\n",
       "      <td>39</td>\n",
       "      <td>I am a developer by profession</td>\n",
       "      <td>Yes</td>\n",
       "      <td>Less than once per year</td>\n",
       "      <td>The quality of OSS and closed source software ...</td>\n",
       "      <td>Employed full-time</td>\n",
       "      <td>United States</td>\n",
       "      <td>No</td>\n",
       "      <td>Bachelor’s degree (BA, BS, B.Eng., etc.)</td>\n",
       "      <td>Computer science, computer engineering, or sof...</td>\n",
       "      <td>...</td>\n",
       "      <td>Somewhat less welcome now than last year</td>\n",
       "      <td>Tech articles written by other developers</td>\n",
       "      <td>42.0</td>\n",
       "      <td>Man</td>\n",
       "      <td>No</td>\n",
       "      <td>Bisexual</td>\n",
       "      <td>White or of European descent</td>\n",
       "      <td>No</td>\n",
       "      <td>Appropriate in length</td>\n",
       "      <td>Easy</td>\n",
       "    </tr>\n",
       "    <tr>\n",
       "      <th>17</th>\n",
       "      <td>44</td>\n",
       "      <td>I am a developer by profession</td>\n",
       "      <td>Yes</td>\n",
       "      <td>Once a month or more often</td>\n",
       "      <td>The quality of OSS and closed source software ...</td>\n",
       "      <td>Employed full-time</td>\n",
       "      <td>Germany</td>\n",
       "      <td>No</td>\n",
       "      <td>Bachelor’s degree (BA, BS, B.Eng., etc.)</td>\n",
       "      <td>Information systems, information technology, o...</td>\n",
       "      <td>...</td>\n",
       "      <td>Just as welcome now as I felt last year</td>\n",
       "      <td>Tech articles written by other developers;Indu...</td>\n",
       "      <td>43.0</td>\n",
       "      <td>Man</td>\n",
       "      <td>No</td>\n",
       "      <td>Straight / Heterosexual</td>\n",
       "      <td>White or of European descent</td>\n",
       "      <td>Yes</td>\n",
       "      <td>Appropriate in length</td>\n",
       "      <td>Easy</td>\n",
       "    </tr>\n",
       "    <tr>\n",
       "      <th>36</th>\n",
       "      <td>83</td>\n",
       "      <td>I am a developer by profession</td>\n",
       "      <td>Yes</td>\n",
       "      <td>Less than once a month but more than once per ...</td>\n",
       "      <td>OSS is, on average, of HIGHER quality than pro...</td>\n",
       "      <td>Employed full-time</td>\n",
       "      <td>India</td>\n",
       "      <td>No</td>\n",
       "      <td>Bachelor’s degree (BA, BS, B.Eng., etc.)</td>\n",
       "      <td>Web development or web design</td>\n",
       "      <td>...</td>\n",
       "      <td>Just as welcome now as I felt last year</td>\n",
       "      <td>Industry news about technologies you're intere...</td>\n",
       "      <td>22.0</td>\n",
       "      <td>Man</td>\n",
       "      <td>No</td>\n",
       "      <td>Straight / Heterosexual</td>\n",
       "      <td>South Asian</td>\n",
       "      <td>No</td>\n",
       "      <td>Appropriate in length</td>\n",
       "      <td>Neither easy nor difficult</td>\n",
       "    </tr>\n",
       "    <tr>\n",
       "      <th>47</th>\n",
       "      <td>104</td>\n",
       "      <td>I am a developer by profession</td>\n",
       "      <td>Yes</td>\n",
       "      <td>Never</td>\n",
       "      <td>OSS is, on average, of LOWER quality than prop...</td>\n",
       "      <td>Employed full-time</td>\n",
       "      <td>India</td>\n",
       "      <td>Yes, full-time</td>\n",
       "      <td>Bachelor’s degree (BA, BS, B.Eng., etc.)</td>\n",
       "      <td>Computer science, computer engineering, or sof...</td>\n",
       "      <td>...</td>\n",
       "      <td>Just as welcome now as I felt last year</td>\n",
       "      <td>Tech articles written by other developers;Indu...</td>\n",
       "      <td>29.0</td>\n",
       "      <td>Man</td>\n",
       "      <td>No</td>\n",
       "      <td>Straight / Heterosexual</td>\n",
       "      <td>South Asian</td>\n",
       "      <td>Yes</td>\n",
       "      <td>Appropriate in length</td>\n",
       "      <td>Easy</td>\n",
       "    </tr>\n",
       "  </tbody>\n",
       "</table>\n",
       "<p>5 rows × 85 columns</p>\n",
       "</div>"
      ],
      "text/plain": [
       "    Respondent                                         MainBranch Hobbyist  \\\n",
       "6           20  I am not primarily a developer, but I write co...       No   \n",
       "15          39                     I am a developer by profession      Yes   \n",
       "17          44                     I am a developer by profession      Yes   \n",
       "36          83                     I am a developer by profession      Yes   \n",
       "47         104                     I am a developer by profession      Yes   \n",
       "\n",
       "                                          OpenSourcer  \\\n",
       "6                                               Never   \n",
       "15                            Less than once per year   \n",
       "17                         Once a month or more often   \n",
       "36  Less than once a month but more than once per ...   \n",
       "47                                              Never   \n",
       "\n",
       "                                           OpenSource          Employment  \\\n",
       "6   OSS is, on average, of HIGHER quality than pro...  Employed full-time   \n",
       "15  The quality of OSS and closed source software ...  Employed full-time   \n",
       "17  The quality of OSS and closed source software ...  Employed full-time   \n",
       "36  OSS is, on average, of HIGHER quality than pro...  Employed full-time   \n",
       "47  OSS is, on average, of LOWER quality than prop...  Employed full-time   \n",
       "\n",
       "          Country         Student  \\\n",
       "6       Lithuania              No   \n",
       "15  United States              No   \n",
       "17        Germany              No   \n",
       "36          India              No   \n",
       "47          India  Yes, full-time   \n",
       "\n",
       "                                        EdLevel  \\\n",
       "6   Master’s degree (MA, MS, M.Eng., MBA, etc.)   \n",
       "15     Bachelor’s degree (BA, BS, B.Eng., etc.)   \n",
       "17     Bachelor’s degree (BA, BS, B.Eng., etc.)   \n",
       "36     Bachelor’s degree (BA, BS, B.Eng., etc.)   \n",
       "47     Bachelor’s degree (BA, BS, B.Eng., etc.)   \n",
       "\n",
       "                                       UndergradMajor  ...  \\\n",
       "6   Information systems, information technology, o...  ...   \n",
       "15  Computer science, computer engineering, or sof...  ...   \n",
       "17  Information systems, information technology, o...  ...   \n",
       "36                      Web development or web design  ...   \n",
       "47  Computer science, computer engineering, or sof...  ...   \n",
       "\n",
       "                                        WelcomeChange  \\\n",
       "6   Not applicable - I did not use Stack Overflow ...   \n",
       "15           Somewhat less welcome now than last year   \n",
       "17            Just as welcome now as I felt last year   \n",
       "36            Just as welcome now as I felt last year   \n",
       "47            Just as welcome now as I felt last year   \n",
       "\n",
       "                                         SONewContent   Age Gender Trans  \\\n",
       "6           Tech articles written by other developers  38.0    Man    No   \n",
       "15          Tech articles written by other developers  42.0    Man    No   \n",
       "17  Tech articles written by other developers;Indu...  43.0    Man    No   \n",
       "36  Industry news about technologies you're intere...  22.0    Man    No   \n",
       "47  Tech articles written by other developers;Indu...  29.0    Man    No   \n",
       "\n",
       "                  Sexuality                     Ethnicity Dependents  \\\n",
       "6   Straight / Heterosexual  White or of European descent        Yes   \n",
       "15                 Bisexual  White or of European descent         No   \n",
       "17  Straight / Heterosexual  White or of European descent        Yes   \n",
       "36  Straight / Heterosexual                   South Asian         No   \n",
       "47  Straight / Heterosexual                   South Asian        Yes   \n",
       "\n",
       "             SurveyLength                  SurveyEase  \n",
       "6   Appropriate in length                        Easy  \n",
       "15  Appropriate in length                        Easy  \n",
       "17  Appropriate in length                        Easy  \n",
       "36  Appropriate in length  Neither easy nor difficult  \n",
       "47  Appropriate in length                        Easy  \n",
       "\n",
       "[5 rows x 85 columns]"
      ]
     },
     "execution_count": 22,
     "metadata": {},
     "output_type": "execute_result"
    }
   ],
   "source": [
    "# your code goes here\n",
    "final_1 = df[df['ConvertedComp']<=upper_whisker]\n",
    "final_df = final_1[final_1['ConvertedComp']>=lower_whisker]\n",
    "final_df.head()"
   ]
  },
  {
   "cell_type": "markdown",
   "metadata": {},
   "source": [
    "## Correlation\n"
   ]
  },
  {
   "cell_type": "markdown",
   "metadata": {},
   "source": [
    "### Finding correlation\n"
   ]
  },
  {
   "cell_type": "markdown",
   "metadata": {},
   "source": [
    "Find the correlation between `Age` and all other numerical columns.\n"
   ]
  },
  {
   "cell_type": "code",
   "execution_count": 23,
   "metadata": {},
   "outputs": [
    {
     "data": {
      "text/html": [
       "<div>\n",
       "<style scoped>\n",
       "    .dataframe tbody tr th:only-of-type {\n",
       "        vertical-align: middle;\n",
       "    }\n",
       "\n",
       "    .dataframe tbody tr th {\n",
       "        vertical-align: top;\n",
       "    }\n",
       "\n",
       "    .dataframe thead th {\n",
       "        text-align: right;\n",
       "    }\n",
       "</style>\n",
       "<table border=\"1\" class=\"dataframe\">\n",
       "  <thead>\n",
       "    <tr style=\"text-align: right;\">\n",
       "      <th></th>\n",
       "      <th>Respondent</th>\n",
       "      <th>CompTotal</th>\n",
       "      <th>ConvertedComp</th>\n",
       "      <th>WorkWeekHrs</th>\n",
       "      <th>CodeRevHrs</th>\n",
       "      <th>Age</th>\n",
       "    </tr>\n",
       "  </thead>\n",
       "  <tbody>\n",
       "    <tr>\n",
       "      <th>Respondent</th>\n",
       "      <td>1.000000</td>\n",
       "      <td>-0.057366</td>\n",
       "      <td>-0.065603</td>\n",
       "      <td>-0.060420</td>\n",
       "      <td>-0.038389</td>\n",
       "      <td>0.027928</td>\n",
       "    </tr>\n",
       "    <tr>\n",
       "      <th>CompTotal</th>\n",
       "      <td>-0.057366</td>\n",
       "      <td>1.000000</td>\n",
       "      <td>-0.028490</td>\n",
       "      <td>-0.006841</td>\n",
       "      <td>-0.039165</td>\n",
       "      <td>0.012503</td>\n",
       "    </tr>\n",
       "    <tr>\n",
       "      <th>ConvertedComp</th>\n",
       "      <td>-0.065603</td>\n",
       "      <td>-0.028490</td>\n",
       "      <td>1.000000</td>\n",
       "      <td>0.102571</td>\n",
       "      <td>-0.012538</td>\n",
       "      <td>0.109655</td>\n",
       "    </tr>\n",
       "    <tr>\n",
       "      <th>WorkWeekHrs</th>\n",
       "      <td>-0.060420</td>\n",
       "      <td>-0.006841</td>\n",
       "      <td>0.102571</td>\n",
       "      <td>1.000000</td>\n",
       "      <td>0.082863</td>\n",
       "      <td>0.040690</td>\n",
       "    </tr>\n",
       "    <tr>\n",
       "      <th>CodeRevHrs</th>\n",
       "      <td>-0.038389</td>\n",
       "      <td>-0.039165</td>\n",
       "      <td>-0.012538</td>\n",
       "      <td>0.082863</td>\n",
       "      <td>1.000000</td>\n",
       "      <td>-0.007431</td>\n",
       "    </tr>\n",
       "    <tr>\n",
       "      <th>Age</th>\n",
       "      <td>0.027928</td>\n",
       "      <td>0.012503</td>\n",
       "      <td>0.109655</td>\n",
       "      <td>0.040690</td>\n",
       "      <td>-0.007431</td>\n",
       "      <td>1.000000</td>\n",
       "    </tr>\n",
       "  </tbody>\n",
       "</table>\n",
       "</div>"
      ],
      "text/plain": [
       "               Respondent  CompTotal  ConvertedComp  WorkWeekHrs  CodeRevHrs  \\\n",
       "Respondent       1.000000  -0.057366      -0.065603    -0.060420   -0.038389   \n",
       "CompTotal       -0.057366   1.000000      -0.028490    -0.006841   -0.039165   \n",
       "ConvertedComp   -0.065603  -0.028490       1.000000     0.102571   -0.012538   \n",
       "WorkWeekHrs     -0.060420  -0.006841       0.102571     1.000000    0.082863   \n",
       "CodeRevHrs      -0.038389  -0.039165      -0.012538     0.082863    1.000000   \n",
       "Age              0.027928   0.012503       0.109655     0.040690   -0.007431   \n",
       "\n",
       "                    Age  \n",
       "Respondent     0.027928  \n",
       "CompTotal      0.012503  \n",
       "ConvertedComp  0.109655  \n",
       "WorkWeekHrs    0.040690  \n",
       "CodeRevHrs    -0.007431  \n",
       "Age            1.000000  "
      ]
     },
     "execution_count": 23,
     "metadata": {},
     "output_type": "execute_result"
    }
   ],
   "source": [
    "# your code goes here\n",
    "df.corr()"
   ]
  },
  {
   "cell_type": "markdown",
   "metadata": {},
   "source": [
    "## Authors\n"
   ]
  },
  {
   "cell_type": "markdown",
   "metadata": {},
   "source": [
    "Ramesh Sannareddy\n"
   ]
  },
  {
   "cell_type": "markdown",
   "metadata": {},
   "source": [
    "### Other Contributors\n"
   ]
  },
  {
   "cell_type": "markdown",
   "metadata": {},
   "source": [
    "Rav Ahuja\n"
   ]
  },
  {
   "cell_type": "markdown",
   "metadata": {},
   "source": [
    "## Change Log\n"
   ]
  },
  {
   "cell_type": "markdown",
   "metadata": {},
   "source": [
    "| Date (YYYY-MM-DD) | Version | Changed By        | Change Description                 |\n",
    "| ----------------- | ------- | ----------------- | ---------------------------------- |\n",
    "| 2020-10-17        | 0.1     | Ramesh Sannareddy | Created initial version of the lab |\n"
   ]
  },
  {
   "cell_type": "markdown",
   "metadata": {},
   "source": [
    " Copyright © 2020 IBM Corporation. This notebook and its source code are released under the terms of the [MIT License](https://cognitiveclass.ai/mit-license?cm_mmc=Email_Newsletter-_-Developer_Ed%2BTech-_-WW_WW-_-SkillsNetwork-Courses-IBM-DA0321EN-SkillsNetwork-21426264&cm_mmca1=000026UJ&cm_mmca2=10006555&cm_mmca3=M12345678&cvosrc=email.Newsletter.M12345678&cvo_campaign=000026UJ&cm_mmc=Email_Newsletter-_-Developer_Ed%2BTech-_-WW_WW-_-SkillsNetwork-Courses-IBM-DA0321EN-SkillsNetwork-21426264&cm_mmca1=000026UJ&cm_mmca2=10006555&cm_mmca3=M12345678&cvosrc=email.Newsletter.M12345678&cvo_campaign=000026UJ&cm_mmc=Email_Newsletter-_-Developer_Ed%2BTech-_-WW_WW-_-SkillsNetwork-Courses-IBM-DA0321EN-SkillsNetwork-21426264&cm_mmca1=000026UJ&cm_mmca2=10006555&cm_mmca3=M12345678&cvosrc=email.Newsletter.M12345678&cvo_campaign=000026UJ&cm_mmc=Email_Newsletter-_-Developer_Ed%2BTech-_-WW_WW-_-SkillsNetwork-Courses-IBM-DA0321EN-SkillsNetwork-21426264&cm_mmca1=000026UJ&cm_mmca2=10006555&cm_mmca3=M12345678&cvosrc=email.Newsletter.M12345678&cvo_campaign=000026UJ&cm_mmc=Email_Newsletter-_-Developer_Ed%2BTech-_-WW_WW-_-SkillsNetwork-Courses-IBM-DA0321EN-SkillsNetwork-21426264&cm_mmca1=000026UJ&cm_mmca2=10006555&cm_mmca3=M12345678&cvosrc=email.Newsletter.M12345678&cvo_campaign=000026UJ&cm_mmc=Email_Newsletter-_-Developer_Ed%2BTech-_-WW_WW-_-SkillsNetwork-Courses-IBM-DA0321EN-SkillsNetwork-21426264&cm_mmca1=000026UJ&cm_mmca2=10006555&cm_mmca3=M12345678&cvosrc=email.Newsletter.M12345678&cvo_campaign=000026UJ).\n"
   ]
  }
 ],
 "metadata": {
  "kernelspec": {
   "display_name": "Python 3",
   "language": "python",
   "name": "python3"
  },
  "language_info": {
   "codemirror_mode": {
    "name": "ipython",
    "version": 3
   },
   "file_extension": ".py",
   "mimetype": "text/x-python",
   "name": "python",
   "nbconvert_exporter": "python",
   "pygments_lexer": "ipython3",
   "version": "3.8.5"
  }
 },
 "nbformat": 4,
 "nbformat_minor": 4
}
